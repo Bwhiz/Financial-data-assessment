{
 "cells": [
  {
   "cell_type": "code",
   "execution_count": 1,
   "id": "5808da92-17e3-44d9-8520-560f948aa2e7",
   "metadata": {},
   "outputs": [],
   "source": [
    "import pandas as pd\n",
    "import requests\n",
    "from bs4 import BeautifulSoup\n",
    "from time import sleep\n",
    "from selenium import webdriver \n",
    "import json\n",
    "import time\n",
    "from tqdm.auto import tqdm\n",
    "\n"
   ]
  },
  {
   "cell_type": "code",
   "execution_count": 2,
   "id": "080cf7d1-51b5-4f07-8880-8acb2347c28c",
   "metadata": {},
   "outputs": [],
   "source": [
    "# using webdriver to extract page information:\n",
    "cService = webdriver.ChromeService(executable_path='../../web_scrape_projects/chromedriver.exe')\n",
    "driver = webdriver.Chrome(service = cService)\n"
   ]
  },
  {
   "cell_type": "code",
   "execution_count": 3,
   "id": "d4f623a5-182b-463b-9d61-163a98fb0753",
   "metadata": {},
   "outputs": [],
   "source": [
    "tickers = [\"AEE\",\"REZ\",\"1AE\",\"1MC\",\"NRZ\"]"
   ]
  },
  {
   "cell_type": "code",
   "execution_count": 8,
   "id": "e14202ef-1962-4c43-b16f-0125c70556eb",
   "metadata": {},
   "outputs": [],
   "source": [
    "# instantiating an empty dataframe with the expected columns:\n",
    "\n",
    "output_df = pd.DataFrame(columns= ['id', 'document_release_date', 'document_date', 'url', 'relative_url',\n",
    "       'header', 'market_sensitive', 'number_of_pages', 'size',\n",
    "       'legacy_announcement', 'issuer_code', 'issuer_short_name',\n",
    "       'issuer_full_name'])"
   ]
  },
  {
   "cell_type": "code",
   "execution_count": 9,
   "id": "8590977e-f2e2-4685-b92e-a8e3c0e0282d",
   "metadata": {},
   "outputs": [],
   "source": [
    "def get_ticker_info(ticker):\n",
    "    \n",
    "    base_url = f\"https://www.asx.com.au/asx/1/company/{ticker}/announcements?count=20&market_sensitive=false\"\n",
    "    driver.get(base_url)\n",
    "    res = driver.page_source\n",
    "\n",
    "    info = BeautifulSoup(res,'html.parser') \n",
    "    data = json.loads(info.find('pre').get_text())\n",
    "\n",
    "    output = pd.DataFrame(data[\"data\"])\n",
    "\n",
    "    return output"
   ]
  },
  {
   "cell_type": "code",
   "execution_count": 10,
   "id": "b4dc2c2e-0218-4d55-9fa1-b414e531cf56",
   "metadata": {},
   "outputs": [
    {
     "data": {
      "application/vnd.jupyter.widget-view+json": {
       "model_id": "9a8eb5aba6e04fb1852ce431eba1c7db",
       "version_major": 2,
       "version_minor": 0
      },
      "text/plain": [
       "  0%|          | 0/5 [00:00<?, ?it/s]"
      ]
     },
     "metadata": {},
     "output_type": "display_data"
    }
   ],
   "source": [
    "for ticker_ in tqdm(tickers):\n",
    "\n",
    "    df = get_ticker_info(ticker_)\n",
    "    output_df = pd.concat([output_df, df], ignore_index=True)\n",
    "\n",
    "    time.sleep(5)"
   ]
  },
  {
   "cell_type": "code",
   "execution_count": 11,
   "id": "0136062c-5bf8-4e43-ac90-b446db567b02",
   "metadata": {},
   "outputs": [
    {
     "data": {
      "text/plain": [
       "issuer_code\n",
       "AEE    20\n",
       "REZ    20\n",
       "1AE    20\n",
       "1MC    20\n",
       "NRZ    20\n",
       "Name: count, dtype: int64"
      ]
     },
     "execution_count": 11,
     "metadata": {},
     "output_type": "execute_result"
    }
   ],
   "source": [
    "output_df['issuer_code'].value_counts()"
   ]
  },
  {
   "cell_type": "code",
   "execution_count": 12,
   "id": "e2e344c1-ecf5-4804-bf3e-e74b0b3eaab3",
   "metadata": {},
   "outputs": [],
   "source": [
    "output_df.to_csv('./data/test_data.csv', index=False)"
   ]
  },
  {
   "cell_type": "code",
   "execution_count": null,
   "id": "36f522d4-e623-4e45-8eff-7410d39f9e6c",
   "metadata": {},
   "outputs": [],
   "source": []
  },
  {
   "cell_type": "markdown",
   "id": "2f66fabd-316d-42be-90e3-60217ec9dbbb",
   "metadata": {},
   "source": [
    "## Displaying Data Frame Output:"
   ]
  },
  {
   "cell_type": "code",
   "execution_count": 13,
   "id": "0a38e1e4-6102-46b3-9887-e70e71dbe328",
   "metadata": {},
   "outputs": [
    {
     "data": {
      "text/html": [
       "<div>\n",
       "<style scoped>\n",
       "    .dataframe tbody tr th:only-of-type {\n",
       "        vertical-align: middle;\n",
       "    }\n",
       "\n",
       "    .dataframe tbody tr th {\n",
       "        vertical-align: top;\n",
       "    }\n",
       "\n",
       "    .dataframe thead th {\n",
       "        text-align: right;\n",
       "    }\n",
       "</style>\n",
       "<table border=\"1\" class=\"dataframe\">\n",
       "  <thead>\n",
       "    <tr style=\"text-align: right;\">\n",
       "      <th></th>\n",
       "      <th>id</th>\n",
       "      <th>document_release_date</th>\n",
       "      <th>document_date</th>\n",
       "      <th>url</th>\n",
       "      <th>relative_url</th>\n",
       "      <th>header</th>\n",
       "      <th>market_sensitive</th>\n",
       "      <th>number_of_pages</th>\n",
       "      <th>size</th>\n",
       "      <th>legacy_announcement</th>\n",
       "      <th>issuer_code</th>\n",
       "      <th>issuer_short_name</th>\n",
       "      <th>issuer_full_name</th>\n",
       "    </tr>\n",
       "  </thead>\n",
       "  <tbody>\n",
       "    <tr>\n",
       "      <th>0</th>\n",
       "      <td>02839968</td>\n",
       "      <td>2024-08-15T14:53:40+1000</td>\n",
       "      <td>2024-08-15T14:52:28+1000</td>\n",
       "      <td>https://announcements.asx.com.au/asxpdf/202408...</td>\n",
       "      <td>/asxpdf/20240815/pdf/066nj3f5lb1dpm.pdf</td>\n",
       "      <td>Notification regarding unquoted securities - AEE</td>\n",
       "      <td>False</td>\n",
       "      <td>7</td>\n",
       "      <td>21.5KB</td>\n",
       "      <td>False</td>\n",
       "      <td>AEE</td>\n",
       "      <td>AURA EN</td>\n",
       "      <td>AURA ENERGY LIMITED</td>\n",
       "    </tr>\n",
       "    <tr>\n",
       "      <th>1</th>\n",
       "      <td>02839899</td>\n",
       "      <td>2024-08-15T11:11:09+1000</td>\n",
       "      <td>2024-08-15T11:10:29+1000</td>\n",
       "      <td>https://announcements.asx.com.au/asxpdf/202408...</td>\n",
       "      <td>/asxpdf/20240815/pdf/066nb5j4zm2h0r.pdf</td>\n",
       "      <td>Proposed issue of securities - AEE</td>\n",
       "      <td>False</td>\n",
       "      <td>5</td>\n",
       "      <td>17.8KB</td>\n",
       "      <td>False</td>\n",
       "      <td>AEE</td>\n",
       "      <td>AURA EN</td>\n",
       "      <td>AURA ENERGY LIMITED</td>\n",
       "    </tr>\n",
       "  </tbody>\n",
       "</table>\n",
       "</div>"
      ],
      "text/plain": [
       "         id     document_release_date             document_date  \\\n",
       "0  02839968  2024-08-15T14:53:40+1000  2024-08-15T14:52:28+1000   \n",
       "1  02839899  2024-08-15T11:11:09+1000  2024-08-15T11:10:29+1000   \n",
       "\n",
       "                                                 url  \\\n",
       "0  https://announcements.asx.com.au/asxpdf/202408...   \n",
       "1  https://announcements.asx.com.au/asxpdf/202408...   \n",
       "\n",
       "                              relative_url  \\\n",
       "0  /asxpdf/20240815/pdf/066nj3f5lb1dpm.pdf   \n",
       "1  /asxpdf/20240815/pdf/066nb5j4zm2h0r.pdf   \n",
       "\n",
       "                                             header market_sensitive  \\\n",
       "0  Notification regarding unquoted securities - AEE            False   \n",
       "1                Proposed issue of securities - AEE            False   \n",
       "\n",
       "  number_of_pages    size legacy_announcement issuer_code issuer_short_name  \\\n",
       "0               7  21.5KB               False         AEE           AURA EN   \n",
       "1               5  17.8KB               False         AEE           AURA EN   \n",
       "\n",
       "      issuer_full_name  \n",
       "0  AURA ENERGY LIMITED  \n",
       "1  AURA ENERGY LIMITED  "
      ]
     },
     "execution_count": 13,
     "metadata": {},
     "output_type": "execute_result"
    }
   ],
   "source": [
    "output_df.head(2)"
   ]
  },
  {
   "cell_type": "code",
   "execution_count": 14,
   "id": "911ed539-80fc-4324-8031-ac4c2d39915c",
   "metadata": {},
   "outputs": [],
   "source": [
    "# identifying Trading halt announcements:"
   ]
  },
  {
   "cell_type": "code",
   "execution_count": 16,
   "id": "e9935d44-b888-4b70-bfbe-55ffc7ae4a9e",
   "metadata": {},
   "outputs": [
    {
     "name": "stdout",
     "output_type": "stream",
     "text": [
      " --- found : header         Trading Halt\n",
      "issuer_code             REZ\n",
      "Name: 22, dtype: object  ---\n",
      " --- found : header         Trading Halt\n",
      "issuer_code             NRZ\n",
      "Name: 90, dtype: object  ---\n"
     ]
    }
   ],
   "source": [
    "for idx, header in enumerate(output_df['header']):\n",
    "    if \"Trading Halt\" in str(header):\n",
    "        print(f\" --- found : {output_df.loc[idx, ['header','issuer_code']]}  ---\")"
   ]
  },
  {
   "cell_type": "markdown",
   "id": "bc111b20-f2d5-46da-a825-f0475cc64dac",
   "metadata": {},
   "source": [
    "**for the purpose of this assessment, table display for the 'Trading Halt' filter would be limited to columns :**\n",
    "- 'issuer_code'\n",
    "- 'issuer_full_name'"
   ]
  },
  {
   "cell_type": "code",
   "execution_count": null,
   "id": "796d2858-4b77-4c59-a437-1d8b220728ed",
   "metadata": {},
   "outputs": [],
   "source": []
  }
 ],
 "metadata": {
  "kernelspec": {
   "display_name": "Python 3 (ipykernel)",
   "language": "python",
   "name": "python3"
  },
  "language_info": {
   "codemirror_mode": {
    "name": "ipython",
    "version": 3
   },
   "file_extension": ".py",
   "mimetype": "text/x-python",
   "name": "python",
   "nbconvert_exporter": "python",
   "pygments_lexer": "ipython3",
   "version": "3.8.10"
  }
 },
 "nbformat": 4,
 "nbformat_minor": 5
}
